{
 "cells": [
  {
   "cell_type": "code",
   "execution_count": 2,
   "id": "d7311e57",
   "metadata": {},
   "outputs": [],
   "source": [
    "N = 5"
   ]
  },
  {
   "cell_type": "code",
   "execution_count": 3,
   "id": "2e5153ee",
   "metadata": {},
   "outputs": [],
   "source": [
    "Y = 10"
   ]
  },
  {
   "cell_type": "code",
   "execution_count": 5,
   "id": "1f8fd323",
   "metadata": {},
   "outputs": [
    {
     "data": {
      "text/plain": [
       "15"
      ]
     },
     "execution_count": 5,
     "metadata": {},
     "output_type": "execute_result"
    }
   ],
   "source": [
    "N + Y \n"
   ]
  },
  {
   "cell_type": "code",
   "execution_count": 11,
   "id": "7e748caf",
   "metadata": {},
   "outputs": [],
   "source": [
    "(greeting) ='Hello Class'"
   ]
  },
  {
   "cell_type": "code",
   "execution_count": 12,
   "id": "ab4ba19d",
   "metadata": {},
   "outputs": [
    {
     "name": "stdout",
     "output_type": "stream",
     "text": [
      "Hello Class\n"
     ]
    }
   ],
   "source": [
    "print(greeting)"
   ]
  },
  {
   "cell_type": "code",
   "execution_count": null,
   "id": "dc4cf3c5",
   "metadata": {},
   "outputs": [],
   "source": []
  }
 ],
 "metadata": {
  "kernelspec": {
   "display_name": "Python 3 (ipykernel)",
   "language": "python",
   "name": "python3"
  },
  "language_info": {
   "codemirror_mode": {
    "name": "ipython",
    "version": 3
   },
   "file_extension": ".py",
   "mimetype": "text/x-python",
   "name": "python",
   "nbconvert_exporter": "python",
   "pygments_lexer": "ipython3",
   "version": "3.9.12"
  }
 },
 "nbformat": 4,
 "nbformat_minor": 5
}
